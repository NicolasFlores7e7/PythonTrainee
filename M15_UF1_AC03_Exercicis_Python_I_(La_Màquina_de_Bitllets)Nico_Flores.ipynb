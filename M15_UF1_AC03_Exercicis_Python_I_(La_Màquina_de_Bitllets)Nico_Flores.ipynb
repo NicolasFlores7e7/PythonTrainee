{
  "cells": [
    {
      "cell_type": "markdown",
      "metadata": {
        "id": "view-in-github",
        "colab_type": "text"
      },
      "source": [
        "<a href=\"https://colab.research.google.com/github/NicolasFlores7e7/PythonTrainee/blob/main/M15_UF1_AC03_Exercicis_Python_I_(La_M%C3%A0quina_de_Bitllets)Nico_Flores.ipynb\" target=\"_parent\"><img src=\"https://colab.research.google.com/assets/colab-badge.svg\" alt=\"Open In Colab\"/></a>"
      ]
    },
    {
      "cell_type": "markdown",
      "source": [
        "## ⛔ Constantes"
      ],
      "metadata": {
        "id": "ts5r2x-ishcQ"
      }
    },
    {
      "cell_type": "code",
      "execution_count": null,
      "metadata": {
        "id": "IhDtq11Sns2W"
      },
      "outputs": [],
      "source": [
        "TICKET_DICTIONARY = {\"Sencillo\": 2.40, \"Casual\": 11.35, \"Usual\": 40.00, \"Familiar\": 10.00, \"Jóven\": 80.00}\n",
        "TICKET_SELECTION_LIST = [\"Sencillo\", \"Casual\", \"Usual\", \"Familiar\", \"Jóven\"]\n",
        "ZONE = [\"1 zona\", \"2 zonas\", \"3 zonas\", \"4 zonas\", \"5 zonas\", \"6 zonas\"]\n",
        "SECRET_CODE = 4321"
      ]
    },
    {
      "cell_type": "markdown",
      "source": [
        "## 🚊 Función de elección de billetes\n",
        "\n",
        "- **Input esperado**: un **entero** del **1 al 5** o el valor de la constante **SECRET_CODE**.\n",
        "- **Output**: Si el input es distinto de **SECRET_CODE**, devuelve un **entero** con valores entre **1 y 5**.\n",
        "- **Control de errores**: Solo se pueden introducir los **valores esperados**.\n",
        "\n",
        "\n",
        "\n"
      ],
      "metadata": {
        "id": "Pe15Sczesp4e"
      }
    },
    {
      "cell_type": "code",
      "execution_count": null,
      "metadata": {
        "id": "EmoJ-N2Pn5gN"
      },
      "outputs": [],
      "source": [
        "def ticket_selection():\n",
        "    print(\"//////////////////////////////////////////\"\n",
        "          \"\\n¿Qué billete desea adquirir?\"\n",
        "          \"\\n1. Billete sencillo\"\n",
        "          \"\\n2. Billete Casual\"\n",
        "          \"\\n3. Billete Usual\"\n",
        "          \"\\n4. Billete Familiar\"\n",
        "          \"\\n5. Billete Jóven\"\n",
        "          \"\\n//////////////////////////////////////////\")\n",
        "    valid_ticket = False\n",
        "    while not valid_ticket:\n",
        "        try:\n",
        "            ticket_value = int(input(\"Introduce el número de la opción deseada: \"))\n",
        "            if ticket_value in range(1, 6):\n",
        "                valid_ticket = True\n",
        "            elif ticket_value == SECRET_CODE:\n",
        "                secret_code()\n",
        "            else:\n",
        "                print(\"Error: Por favor, introduce una opción válida.\")\n",
        "        except ValueError:\n",
        "            print(\"Error: Por favor, introduce una opción válida.\")\n",
        "    return ticket_value"
      ]
    },
    {
      "cell_type": "markdown",
      "source": [
        "## 🚊 Función para elegir las zonas\n",
        "\n",
        "- **Input esperado**: un **entero** del **1 al 6** o el valor de la constante **SECRET_CODE**.\n",
        "- **Output**: Si el input es distinto de **SECRET_CODE**, devuelve un **entero** con valores entre **1 y 6**.\n",
        "- **Control de errores**: Solo se pueden introducir los **valores esperados**.\n"
      ],
      "metadata": {
        "id": "_dujl33Xs8QZ"
      }
    },
    {
      "cell_type": "code",
      "execution_count": null,
      "metadata": {
        "id": "ox405pJXn9E0"
      },
      "outputs": [],
      "source": [
        "def zone_selection():\n",
        "    valid_zone = False\n",
        "    print(\"//////////////////////////////////////////\"\n",
        "          \"\\n¿Cúantas zonas desea?\"\n",
        "          \"\\n1. 1 zona\"\n",
        "          \"\\n2. 2 zonas\"\n",
        "          \"\\n3. 3 zonas\"\n",
        "          \"\\n4. 4 zonas\"\n",
        "          \"\\n5. 5 zonas\"\n",
        "          \"\\n6. 6 zonas\"\n",
        "          \"\\n//////////////////////////////////////////\")\n",
        "    while not valid_zone:\n",
        "        try:\n",
        "            zone_value = int(input(\"Introduce la zona deseada: \"))\n",
        "            if zone_value in range(1, 7):\n",
        "                valid_zone = True\n",
        "            elif zone_value == SECRET_CODE:\n",
        "                secret_code()\n",
        "            else:\n",
        "                print(\"Error: Por favor, introduce una opción válida.\")\n",
        "        except ValueError:\n",
        "            print(\"Error: Por favor, introduce una opción válida.\")\n",
        "    return zone_value\n",
        "\n"
      ]
    },
    {
      "cell_type": "markdown",
      "source": [
        "## ✔ ➗ Función para hacer los cálculos\n",
        "\n",
        "- **Parámetros necesarios**: Dos **números enteros** que provienen de los retornos de las funciones **ticket_selection** y **zone_selection**.\n",
        "- **Output**: Retorna un **float** con el precio final del billete, dependiendo del tipo de billete (obtenido recorriendo la constante **TICKET_SELECTION_LIST** con el valor del parámetro `ticket_value - 1`, ya que la constante es una lista indexada).\n",
        "\n"
      ],
      "metadata": {
        "id": "Og6qPbG1tF7w"
      }
    },
    {
      "cell_type": "code",
      "execution_count": null,
      "metadata": {
        "id": "Ji4EWV0BoCF9"
      },
      "outputs": [],
      "source": [
        "def ticket_completion(ticket_value, zone_value):\n",
        "    zone_increment = 1.25\n",
        "    base_price = TICKET_DICTIONARY[TICKET_SELECTION_LIST[ticket_value-1]]\n",
        "    final_price = base_price\n",
        "    for i in range(1, zone_value):\n",
        "        final_price *= zone_increment\n",
        "    print(f\"El precio de su billete {TICKET_SELECTION_LIST[ticket_value-1]} con {ZONE[zone_value-1]} es de {final_price:.2f}€.\")\n",
        "    return final_price"
      ]
    },
    {
      "cell_type": "markdown",
      "source": [
        "## 👾 Función para procesar los billetes\n",
        "\n",
        "- **Output**:\n",
        "  - **ticket_list**: Es una lista con todos los billetes en el formato: `[(nombre_billete1, zonas_billete1, precio_billete1), (nombre_billete2, zonas_billete2, precio_billete2), ...]`.\n",
        "  - **total_price**: Es un **float** con la suma total de todos los billetes comprados.\n",
        "\n",
        "- **Funcionamiento**:\n",
        "  - Se pueden comprar un **máximo de 3 billetes por ciclo**.\n",
        "  - Mientras queden billetes por comprar o no se seleccione la opción de **no comprar más billetes**, el ciclo continúa.\n",
        "  - Para obtener los datos, se invocan las funciones **ticket_selection**, **zone_value** y **ask_more_tickets**.\n",
        "\n",
        "\n"
      ],
      "metadata": {
        "id": "aR4qgqs6tUc1"
      }
    },
    {
      "cell_type": "code",
      "source": [
        "def process_tickets():\n",
        "    MAX_TICKETS = 3\n",
        "    tickets = 0\n",
        "    more_tickets = True\n",
        "    total_price = 0.0\n",
        "    ticket_list = []\n",
        "    while more_tickets:\n",
        "        ticket_value = ticket_selection()\n",
        "        zone_value = zone_selection()\n",
        "        price_to_pay = ticket_completion(ticket_value, zone_value)\n",
        "        total_price += price_to_pay\n",
        "        tickets += 1\n",
        "        ticket_list.append((TICKET_SELECTION_LIST[ticket_value-1], ZONE[zone_value-1], price_to_pay))\n",
        "        if tickets >= MAX_TICKETS:\n",
        "            print(\"Ha alcanzado el número máximo de billetes.\")\n",
        "            more_tickets = False\n",
        "        else:\n",
        "            more_tickets = ask_more_tickets()\n",
        "    return ticket_list, total_price"
      ],
      "metadata": {
        "id": "e1eHnakhreLa"
      },
      "execution_count": null,
      "outputs": []
    },
    {
      "cell_type": "markdown",
      "source": [
        "## ✈ Función para comprar más tickets\n",
        "\n",
        "- **Output**: Retorna un **booleano** dependiendo del input del usuario: `true` o `false`. Con la excepción del **SECRET_CODE**, ya que al introducir este input se invoca la función **secret_code** y la máquina se apaga.\n",
        "- **Control de errores**: Solo se pueden introducir los **valores esperados**.\n"
      ],
      "metadata": {
        "id": "N0MQwsfdtom1"
      }
    },
    {
      "cell_type": "code",
      "source": [
        "def ask_more_tickets():\n",
        "    valid_input = False\n",
        "    while not valid_input:\n",
        "        more_tickets_input = input(\"¿Desea adquirir más billetes? (s/n): \").lower()\n",
        "        if more_tickets_input == \"s\":\n",
        "            return True\n",
        "        elif more_tickets_input == \"n\":\n",
        "            return False\n",
        "        elif more_tickets_input == str(SECRET_CODE):\n",
        "            secret_code()\n",
        "        else:\n",
        "            print(\"Error: Por favor, introduce una opción válida.\")"
      ],
      "metadata": {
        "id": "6hY1OoP0riU4"
      },
      "execution_count": null,
      "outputs": []
    },
    {
      "cell_type": "markdown",
      "source": [
        "## 🤑 Función para procesar el pago\n",
        "\n",
        "- **Parámetro necesario**: Un **float** proveniente del retorno de la función **process_tickets**.\n",
        "- **Input**: Un **int** o **float** cuyo valor esté dentro de nuestras listas **valid_coins**, **valid_bills** o el **SECRET_CODE**.\n",
        "- **Funcionamiento**:\n",
        "  - Tenemos un **float** que representa el **precio a pagar**.\n",
        "  - Recibimos el **input del usuario**, y el valor introducido se resta al **precio a pagar** hasta que este sea **0 o inferior**.\n",
        "  - Si el precio es inferior a 0, se multiplica por **-1** para quitar el símbolo negativo, y ese valor será el **cambio**.\n"
      ],
      "metadata": {
        "id": "dQZeBi6gtyAC"
      }
    },
    {
      "cell_type": "code",
      "execution_count": null,
      "metadata": {
        "id": "Ei_eekvJoDZS"
      },
      "outputs": [],
      "source": [
        "def payment(price_to_pay):\n",
        "    valid_coins = [0.05, 0.10, 0.20, 0.50, 1, 2]\n",
        "    valid_bills = [5, 10, 20, 50]\n",
        "    try:\n",
        "        while price_to_pay > 0:\n",
        "            amount = float(input(\"Introduce una moneda/billete: \"))\n",
        "            if amount in valid_coins or amount in valid_bills:\n",
        "                price_to_pay -= amount\n",
        "                price_to_pay = round(price_to_pay, 2)\n",
        "                if price_to_pay < 0:\n",
        "                    print(\"Cambio:\", price_to_pay*-1, \"€\")\n",
        "                    print(\"/////////////////////\")\n",
        "                elif price_to_pay > 0:\n",
        "                    print(\"Importe restante: \", price_to_pay, \"€\")\n",
        "                    print(\"/////////////////////\")\n",
        "                elif price_to_pay == 0:\n",
        "                    print(\"/////////////////////\")\n",
        "\n",
        "            else:\n",
        "                print(\"Error: Por favor, introduzca una moneda/billete real.\")\n",
        "            if amount == SECRET_CODE:\n",
        "                secret_code()\n",
        "    except ValueError:\n",
        "        print(\"Error: Por favor, introduzca una moneda/billete real.\")"
      ]
    },
    {
      "cell_type": "markdown",
      "source": [
        "## 🖨 Función para imprimir los tickets\n",
        "\n",
        "- **Parámetro necesario**: Una **lista** proveniente del retorno de la función **process_tickets**.\n",
        "- **Input**: Un **string** para validar si se desea imprimir el ticket o no. También se puede introducir el **SECRET_CODE** para llamar a la función **secret_code** y apagar la máquina.\n",
        "- **Funcionamiento**:\n",
        "  - Si se introduce **\"s\"** (en mayúscula o minúscula), se procede a **imprimir por consola** cada ticket dentro de la **lista de tickets** del parámetro de entrada, si se introduce **\"n\"** (en mayúscula o minúscula) se procede a inciar el bucle de compras.\n",
        "  - Cada ticket está constituido por **3 partes**: el **nombre del ticket**, las **zonas** y el **precio**, que se pueden acceder mediante sus **índices [0], [1] y [2]** respectivamente.\n",
        "- **Control de errores**: Solo se pueden introducir los **valores esperados**.\n"
      ],
      "metadata": {
        "id": "BvkyBPikt4JX"
      }
    },
    {
      "cell_type": "code",
      "execution_count": null,
      "metadata": {
        "id": "BjkPTgZFoGRH"
      },
      "outputs": [],
      "source": [
        "def print_ticket_list(ticket_list):\n",
        "    valid_input = False\n",
        "    while not valid_input:\n",
        "       print_ticket_input = input(\"¿Desea imprimir el recibo de la compra? (s/n): \").lower()\n",
        "       match print_ticket_input:\n",
        "            case \"s\":\n",
        "                valid_input = True\n",
        "                print(\"//////////////////////////////////////////\"\n",
        "                    \"\\nBilletes adquiridos:\"\n",
        "                    \"\\n//////////////////////////////////////////\")\n",
        "                for ticket in ticket_list:\n",
        "                    print(f\"Billete: {ticket[0]} | Zona: {ticket[1]} | Precio: {ticket[2]:.2f}€\")\n",
        "                print(\"Gracias por su compra.\")\n",
        "            case \"n\":\n",
        "                valid_input = True\n",
        "                print(\"Gracias por su compra.\")\n",
        "            case str(SECRET_CODE):\n",
        "                secret_code()\n",
        "            case _:\n",
        "                print(\"Error: Por favor, introduce una opción válida.\")\n",
        "                valid_input = False\n"
      ]
    },
    {
      "cell_type": "markdown",
      "source": [
        "## 🥷 Función para apagar la máquina\n",
        "\n",
        "- **Función sencilla** que llama a la función **exit()** de Python.\n",
        "  - En **VS Code**, detiene la ejecución del programa.\n",
        "  - En **Google Colab**, no detiene el programa de la misma forma.\n"
      ],
      "metadata": {
        "id": "NMebuHNqt_0V"
      }
    },
    {
      "cell_type": "code",
      "source": [
        "def secret_code():\n",
        "    print(\"Codigo de apagado activado, la máquina procede a apagarse\")\n",
        "    exit()"
      ],
      "metadata": {
        "id": "PmRaqLZortrH"
      },
      "execution_count": null,
      "outputs": []
    },
    {
      "cell_type": "markdown",
      "source": [
        "## 🎰 Función controladora\n",
        "\n",
        "- **Función simple** que invoca al resto de funciones en un **bucle infinito**, ya que se supone que es una máquina de venta de billetes del metro que está siempre activa.\n",
        "- La máquina solo se apaga si en algún momento se introduce el **SECRET_CODE**.\n"
      ],
      "metadata": {
        "id": "ELRAo70xuGh6"
      }
    },
    {
      "cell_type": "code",
      "execution_count": null,
      "metadata": {
        "id": "nNfZ_iXcoL3D"
      },
      "outputs": [],
      "source": [
        "def subway_machine():\n",
        "    while True:\n",
        "        ticket_list, total_price = process_tickets()\n",
        "        print(f\"El precio total de los billetes adquiridos es de {total_price:.2f}€.\")\n",
        "        payment(total_price)\n",
        "        print_ticket_list(ticket_list)"
      ]
    },
    {
      "cell_type": "markdown",
      "source": [
        "## 📲 Llamada a la función controladora"
      ],
      "metadata": {
        "id": "7DDy9R1QuNcQ"
      }
    },
    {
      "cell_type": "code",
      "execution_count": null,
      "metadata": {
        "id": "4pXoZQpYoQQu",
        "colab": {
          "base_uri": "https://localhost:8080/",
          "height": 843
        },
        "outputId": "ca694078-9866-4c0b-ecf1-364d86dc43ac"
      },
      "outputs": [
        {
          "metadata": {
            "tags": null
          },
          "name": "stdout",
          "output_type": "stream",
          "text": [
            "//////////////////////////////////////////\n",
            "¿Qué billete desea adquirir?\n",
            "1. Billete sencillo\n",
            "2. Billete Casual\n",
            "3. Billete Usual\n",
            "4. Billete Familiar\n",
            "5. Billete Jóven\n",
            "//////////////////////////////////////////\n",
            "Error: Por favor, introduce una opción válida.\n",
            "Error: Por favor, introduce una opción válida.\n",
            "Error: Por favor, introduce una opción válida.\n",
            "//////////////////////////////////////////\n",
            "¿Cúantas zonas desea?\n",
            "1. 1 zona\n",
            "2. 2 zonas\n",
            "3. 3 zonas\n",
            "4. 4 zonas\n",
            "5. 5 zonas\n",
            "6. 6 zonas\n",
            "//////////////////////////////////////////\n",
            "El precio de su billete Usual con 2 zonas es de 50.00€.\n",
            "El precio total de los billetes adquiridos es de 50.00€.\n",
            "/////////////////////\n",
            "Gracias por su compra.\n",
            "//////////////////////////////////////////\n",
            "¿Qué billete desea adquirir?\n",
            "1. Billete sencillo\n",
            "2. Billete Casual\n",
            "3. Billete Usual\n",
            "4. Billete Familiar\n",
            "5. Billete Jóven\n",
            "//////////////////////////////////////////\n"
          ]
        },
        {
          "output_type": "error",
          "ename": "KeyboardInterrupt",
          "evalue": "Interrupted by user",
          "traceback": [
            "\u001b[0;31m---------------------------------------------------------------------------\u001b[0m",
            "\u001b[0;31mKeyboardInterrupt\u001b[0m                         Traceback (most recent call last)",
            "\u001b[0;32m<ipython-input-13-39c8630325ba>\u001b[0m in \u001b[0;36m<cell line: 1>\u001b[0;34m()\u001b[0m\n\u001b[0;32m----> 1\u001b[0;31m \u001b[0msubway_machine\u001b[0m\u001b[0;34m(\u001b[0m\u001b[0;34m)\u001b[0m\u001b[0;34m\u001b[0m\u001b[0;34m\u001b[0m\u001b[0m\n\u001b[0m",
            "\u001b[0;32m<ipython-input-11-161374006062>\u001b[0m in \u001b[0;36msubway_machine\u001b[0;34m()\u001b[0m\n\u001b[1;32m      1\u001b[0m \u001b[0;32mdef\u001b[0m \u001b[0msubway_machine\u001b[0m\u001b[0;34m(\u001b[0m\u001b[0;34m)\u001b[0m\u001b[0;34m:\u001b[0m\u001b[0;34m\u001b[0m\u001b[0;34m\u001b[0m\u001b[0m\n\u001b[1;32m      2\u001b[0m     \u001b[0;32mwhile\u001b[0m \u001b[0;32mTrue\u001b[0m\u001b[0;34m:\u001b[0m\u001b[0;34m\u001b[0m\u001b[0;34m\u001b[0m\u001b[0m\n\u001b[0;32m----> 3\u001b[0;31m         \u001b[0mticket_list\u001b[0m\u001b[0;34m,\u001b[0m \u001b[0mtotal_price\u001b[0m \u001b[0;34m=\u001b[0m \u001b[0mprocess_tickets\u001b[0m\u001b[0;34m(\u001b[0m\u001b[0;34m)\u001b[0m\u001b[0;34m\u001b[0m\u001b[0;34m\u001b[0m\u001b[0m\n\u001b[0m\u001b[1;32m      4\u001b[0m         \u001b[0mprint\u001b[0m\u001b[0;34m(\u001b[0m\u001b[0;34mf\"El precio total de los billetes adquiridos es de {total_price:.2f}€.\"\u001b[0m\u001b[0;34m)\u001b[0m\u001b[0;34m\u001b[0m\u001b[0;34m\u001b[0m\u001b[0m\n\u001b[1;32m      5\u001b[0m         \u001b[0mpayment\u001b[0m\u001b[0;34m(\u001b[0m\u001b[0mtotal_price\u001b[0m\u001b[0;34m)\u001b[0m\u001b[0;34m\u001b[0m\u001b[0;34m\u001b[0m\u001b[0m\n",
            "\u001b[0;32m<ipython-input-6-00f7bdf50f56>\u001b[0m in \u001b[0;36mprocess_tickets\u001b[0;34m()\u001b[0m\n\u001b[1;32m      6\u001b[0m     \u001b[0mticket_list\u001b[0m \u001b[0;34m=\u001b[0m \u001b[0;34m[\u001b[0m\u001b[0;34m]\u001b[0m\u001b[0;34m\u001b[0m\u001b[0;34m\u001b[0m\u001b[0m\n\u001b[1;32m      7\u001b[0m     \u001b[0;32mwhile\u001b[0m \u001b[0mmore_tickets\u001b[0m\u001b[0;34m:\u001b[0m\u001b[0;34m\u001b[0m\u001b[0;34m\u001b[0m\u001b[0m\n\u001b[0;32m----> 8\u001b[0;31m         \u001b[0mticket_value\u001b[0m \u001b[0;34m=\u001b[0m \u001b[0mticket_selection\u001b[0m\u001b[0;34m(\u001b[0m\u001b[0;34m)\u001b[0m\u001b[0;34m\u001b[0m\u001b[0;34m\u001b[0m\u001b[0m\n\u001b[0m\u001b[1;32m      9\u001b[0m         \u001b[0mzone_value\u001b[0m \u001b[0;34m=\u001b[0m \u001b[0mzone_selection\u001b[0m\u001b[0;34m(\u001b[0m\u001b[0;34m)\u001b[0m\u001b[0;34m\u001b[0m\u001b[0;34m\u001b[0m\u001b[0m\n\u001b[1;32m     10\u001b[0m         \u001b[0mprice_to_pay\u001b[0m \u001b[0;34m=\u001b[0m \u001b[0mticket_completion\u001b[0m\u001b[0;34m(\u001b[0m\u001b[0mticket_value\u001b[0m\u001b[0;34m,\u001b[0m \u001b[0mzone_value\u001b[0m\u001b[0;34m)\u001b[0m\u001b[0;34m\u001b[0m\u001b[0;34m\u001b[0m\u001b[0m\n",
            "\u001b[0;32m<ipython-input-3-b70000bb00b5>\u001b[0m in \u001b[0;36mticket_selection\u001b[0;34m()\u001b[0m\n\u001b[1;32m     11\u001b[0m     \u001b[0;32mwhile\u001b[0m \u001b[0;32mnot\u001b[0m \u001b[0mvalid_ticket\u001b[0m\u001b[0;34m:\u001b[0m\u001b[0;34m\u001b[0m\u001b[0;34m\u001b[0m\u001b[0m\n\u001b[1;32m     12\u001b[0m         \u001b[0;32mtry\u001b[0m\u001b[0;34m:\u001b[0m\u001b[0;34m\u001b[0m\u001b[0;34m\u001b[0m\u001b[0m\n\u001b[0;32m---> 13\u001b[0;31m             \u001b[0mticket_value\u001b[0m \u001b[0;34m=\u001b[0m \u001b[0mint\u001b[0m\u001b[0;34m(\u001b[0m\u001b[0minput\u001b[0m\u001b[0;34m(\u001b[0m\u001b[0;34m\"Introduce el número de la opción deseada: \"\u001b[0m\u001b[0;34m)\u001b[0m\u001b[0;34m)\u001b[0m\u001b[0;34m\u001b[0m\u001b[0;34m\u001b[0m\u001b[0m\n\u001b[0m\u001b[1;32m     14\u001b[0m             \u001b[0;32mif\u001b[0m \u001b[0mticket_value\u001b[0m \u001b[0;32min\u001b[0m \u001b[0mrange\u001b[0m\u001b[0;34m(\u001b[0m\u001b[0;36m1\u001b[0m\u001b[0;34m,\u001b[0m \u001b[0;36m6\u001b[0m\u001b[0;34m)\u001b[0m\u001b[0;34m:\u001b[0m\u001b[0;34m\u001b[0m\u001b[0;34m\u001b[0m\u001b[0m\n\u001b[1;32m     15\u001b[0m                 \u001b[0mvalid_ticket\u001b[0m \u001b[0;34m=\u001b[0m \u001b[0;32mTrue\u001b[0m\u001b[0;34m\u001b[0m\u001b[0;34m\u001b[0m\u001b[0m\n",
            "\u001b[0;32m/usr/local/lib/python3.10/dist-packages/ipykernel/kernelbase.py\u001b[0m in \u001b[0;36mraw_input\u001b[0;34m(self, prompt)\u001b[0m\n\u001b[1;32m    849\u001b[0m                 \u001b[0;34m\"raw_input was called, but this frontend does not support input requests.\"\u001b[0m\u001b[0;34m\u001b[0m\u001b[0;34m\u001b[0m\u001b[0m\n\u001b[1;32m    850\u001b[0m             )\n\u001b[0;32m--> 851\u001b[0;31m         return self._input_request(str(prompt),\n\u001b[0m\u001b[1;32m    852\u001b[0m             \u001b[0mself\u001b[0m\u001b[0;34m.\u001b[0m\u001b[0m_parent_ident\u001b[0m\u001b[0;34m,\u001b[0m\u001b[0;34m\u001b[0m\u001b[0;34m\u001b[0m\u001b[0m\n\u001b[1;32m    853\u001b[0m             \u001b[0mself\u001b[0m\u001b[0;34m.\u001b[0m\u001b[0m_parent_header\u001b[0m\u001b[0;34m,\u001b[0m\u001b[0;34m\u001b[0m\u001b[0;34m\u001b[0m\u001b[0m\n",
            "\u001b[0;32m/usr/local/lib/python3.10/dist-packages/ipykernel/kernelbase.py\u001b[0m in \u001b[0;36m_input_request\u001b[0;34m(self, prompt, ident, parent, password)\u001b[0m\n\u001b[1;32m    893\u001b[0m             \u001b[0;32mexcept\u001b[0m \u001b[0mKeyboardInterrupt\u001b[0m\u001b[0;34m:\u001b[0m\u001b[0;34m\u001b[0m\u001b[0;34m\u001b[0m\u001b[0m\n\u001b[1;32m    894\u001b[0m                 \u001b[0;31m# re-raise KeyboardInterrupt, to truncate traceback\u001b[0m\u001b[0;34m\u001b[0m\u001b[0;34m\u001b[0m\u001b[0m\n\u001b[0;32m--> 895\u001b[0;31m                 \u001b[0;32mraise\u001b[0m \u001b[0mKeyboardInterrupt\u001b[0m\u001b[0;34m(\u001b[0m\u001b[0;34m\"Interrupted by user\"\u001b[0m\u001b[0;34m)\u001b[0m \u001b[0;32mfrom\u001b[0m \u001b[0;32mNone\u001b[0m\u001b[0;34m\u001b[0m\u001b[0;34m\u001b[0m\u001b[0m\n\u001b[0m\u001b[1;32m    896\u001b[0m             \u001b[0;32mexcept\u001b[0m \u001b[0mException\u001b[0m \u001b[0;32mas\u001b[0m \u001b[0me\u001b[0m\u001b[0;34m:\u001b[0m\u001b[0;34m\u001b[0m\u001b[0;34m\u001b[0m\u001b[0m\n\u001b[1;32m    897\u001b[0m                 \u001b[0mself\u001b[0m\u001b[0;34m.\u001b[0m\u001b[0mlog\u001b[0m\u001b[0;34m.\u001b[0m\u001b[0mwarning\u001b[0m\u001b[0;34m(\u001b[0m\u001b[0;34m\"Invalid Message:\"\u001b[0m\u001b[0;34m,\u001b[0m \u001b[0mexc_info\u001b[0m\u001b[0;34m=\u001b[0m\u001b[0;32mTrue\u001b[0m\u001b[0;34m)\u001b[0m\u001b[0;34m\u001b[0m\u001b[0;34m\u001b[0m\u001b[0m\n",
            "\u001b[0;31mKeyboardInterrupt\u001b[0m: Interrupted by user"
          ]
        }
      ],
      "source": [
        "subway_machine()"
      ]
    }
  ],
  "metadata": {
    "colab": {
      "provenance": [],
      "toc_visible": true,
      "include_colab_link": true
    },
    "kernelspec": {
      "display_name": "Python 3",
      "name": "python3"
    },
    "language_info": {
      "name": "python"
    }
  },
  "nbformat": 4,
  "nbformat_minor": 0
}